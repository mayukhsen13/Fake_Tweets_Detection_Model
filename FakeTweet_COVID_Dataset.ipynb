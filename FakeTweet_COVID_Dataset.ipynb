{
  "nbformat": 4,
  "nbformat_minor": 0,
  "metadata": {
    "colab": {
      "name": "FakeTweet_COVID_Dataset.ipynb",
      "provenance": [],
      "authorship_tag": "ABX9TyOD3HXgIXndzXYMi64YxrsP",
      "include_colab_link": true
    },
    "kernelspec": {
      "name": "python3",
      "display_name": "Python 3"
    }
  },
  "cells": [
    {
      "cell_type": "markdown",
      "metadata": {
        "id": "view-in-github",
        "colab_type": "text"
      },
      "source": [
        "<a href=\"https://colab.research.google.com/github/mayukhsen13/Fake_Tweets_Detection_Model/blob/master/FakeTweet_COVID_Dataset.ipynb\" target=\"_parent\"><img src=\"https://colab.research.google.com/assets/colab-badge.svg\" alt=\"Open In Colab\"/></a>"
      ]
    },
    {
      "cell_type": "code",
      "metadata": {
        "id": "AHcRuUEQQeYZ",
        "colab_type": "code",
        "colab": {
          "base_uri": "https://localhost:8080/",
          "height": 217
        },
        "outputId": "05eec5a0-81b4-435a-c669-4561e340de2e"
      },
      "source": [
        "import json\n",
        "import csv\n",
        "import tweepy\n",
        "import re\n",
        "\n",
        "def search_for_hashtags(consumer_key, consumer_secret, access_token, access_token_secret, hashtag_phrase, tweet_num):\n",
        " \n",
        "    auth = tweepy.OAuthHandler(consumer_key, consumer_secret)\n",
        "    auth.set_access_token(access_token, access_token_secret)\n",
        "    api = tweepy.API(auth)\n",
        "#    places = api.geo_search(query=\"IN\", granularity=\"country\")\n",
        "#    place_id = places[0].id\n",
        "    \n",
        "    fname = re.sub(' AND ' , '_' , hashtag_phrase )\n",
        "    with open('%s.csv' % (fname), 'w', newline='') as file:\n",
        "\n",
        "        w = csv.writer(file)\n",
        "        w.writerow(['Time', 'Tweets', 'All_hashtags', 'Place'])\n",
        "\n",
        "        for tweet in tweepy.Cursor(api.search, q=hashtag_phrase+' -filter:retweets',\n",
        "                                   lang=\"en\", tweet_mode='extended').items(tweet_num):\n",
        "            w.writerow([tweet.created_at, tweet.full_text.replace('\\n',' ').encode('utf-8'),\n",
        "                       [e['text'] for e in tweet._json['entities']['hashtags']], tweet.place ])\n",
        "            \n",
        "# For GeoLocation : +' place : '+place_id\n",
        "# For getting place of tweet :  .nameconsumer_key = 'UKeCtw58qxMMSdvHhIA0cfLHJ'\n",
        "consumer_secret = 'arnqdTdhmypGkAvtfEwDMV5wOU3cDhEOsI1J4TWCfyEUUMgXBC'\n",
        "access_token = '754676975826931713-Nwh9kwEaGg5fzFVsz6uHhlcfnK7gaH4'\n",
        "access_token_secret = 'tD6wsYgKm88wVA2dQce23rnDiLc5s8WASLPI8SybJXdLU'\n",
        "hashtag_phrase = 'UNICEF AND COVID-19 '\n",
        "tweet_num = 500\n",
        "\n",
        "if __name__ == '__main__':\n",
        "    search_for_hashtags(consumer_key, consumer_secret, access_token, access_token_secret, hashtag_phrase, tweet_num)"
      ],
      "execution_count": null,
      "outputs": [
        {
          "output_type": "error",
          "ename": "NameError",
          "evalue": "ignored",
          "traceback": [
            "\u001b[0;31m---------------------------------------------------------------------------\u001b[0m",
            "\u001b[0;31mNameError\u001b[0m                                 Traceback (most recent call last)",
            "\u001b[0;32m<ipython-input-2-740f11b3aae0>\u001b[0m in \u001b[0;36m<module>\u001b[0;34m()\u001b[0m\n\u001b[1;32m     32\u001b[0m \u001b[0;34m\u001b[0m\u001b[0m\n\u001b[1;32m     33\u001b[0m \u001b[0;32mif\u001b[0m \u001b[0m__name__\u001b[0m \u001b[0;34m==\u001b[0m \u001b[0;34m'__main__'\u001b[0m\u001b[0;34m:\u001b[0m\u001b[0;34m\u001b[0m\u001b[0;34m\u001b[0m\u001b[0m\n\u001b[0;32m---> 34\u001b[0;31m     \u001b[0msearch_for_hashtags\u001b[0m\u001b[0;34m(\u001b[0m\u001b[0mconsumer_key\u001b[0m\u001b[0;34m,\u001b[0m \u001b[0mconsumer_secret\u001b[0m\u001b[0;34m,\u001b[0m \u001b[0maccess_token\u001b[0m\u001b[0;34m,\u001b[0m \u001b[0maccess_token_secret\u001b[0m\u001b[0;34m,\u001b[0m \u001b[0mhashtag_phrase\u001b[0m\u001b[0;34m,\u001b[0m \u001b[0mtweet_num\u001b[0m\u001b[0;34m)\u001b[0m\u001b[0;34m\u001b[0m\u001b[0;34m\u001b[0m\u001b[0m\n\u001b[0m",
            "\u001b[0;31mNameError\u001b[0m: name 'consumer_key' is not defined"
          ]
        }
      ]
    },
    {
      "cell_type": "code",
      "metadata": {
        "id": "rYxzAiDkRYPc",
        "colab_type": "code",
        "colab": {}
      },
      "source": [
        "import json\n",
        "import csv\n",
        "import tweepy\n",
        "import re\n",
        "\n",
        "def search_for_hashtags(consumer_key, consumer_secret, access_token, access_token_secret, hashtag_phrase, tweet_num):\n",
        " \n",
        "    auth = tweepy.OAuthHandler(consumer_key, consumer_secret)\n",
        "    auth.set_access_token(access_token, access_token_secret)\n",
        "    api = tweepy.API(auth)\n",
        "#    places = api.geo_search(query=\"IN\", granularity=\"country\")\n",
        "#    place_id = places[0].id\n",
        "    \n",
        "    fname = re.sub(' AND ' , '_' , hashtag_phrase )\n",
        "    with open('%s.csv' % (fname), 'w', newline='') as file:\n",
        "\n",
        "        w = csv.writer(file)\n",
        "        w.writerow(['Time', 'Tweets', 'All_hashtags', 'Place'])\n",
        "\n",
        "        for tweet in tweepy.Cursor(api.search, q=hashtag_phrase+' -filter:retweets',\n",
        "                                   lang=\"en\", tweet_mode='extended').items(tweet_num):\n",
        "            w.writerow([tweet.created_at, tweet.full_text.replace('\\n',' ').encode('utf-8'),\n",
        "                       [e['text'] for e in tweet._json['entities']['hashtags']], tweet.place ])\n",
        "            \n",
        "# For GeoLocation : +' place : '+place_id\n",
        "# For getting place of tweet :  .name\n",
        "consumer_key = 'UKeCtw58qxMMSdvHhIA0cfLHJ'\n",
        "consumer_secret = 'arnqdTdhmypGkAvtfEwDMV5wOU3cDhEOsI1J4TWCfyEUUMgXBC'\n",
        "access_token = '754676975826931713-Nwh9kwEaGg5fzFVsz6uHhlcfnK7gaH4'\n",
        "access_token_secret = 'tD6wsYgKm88wVA2dQce23rnDiLc5s8WASLPI8SybJXdLU'\n",
        "hashtag_phrase = 'hydroxychloroquine AND COVID-19'\n",
        "tweet_num = 500\n",
        "\n",
        "if __name__ == '__main__':\n",
        "    search_for_hashtags(consumer_key, consumer_secret, access_token, access_token_secret, hashtag_phrase, tweet_num)"
      ],
      "execution_count": null,
      "outputs": []
    },
    {
      "cell_type": "code",
      "metadata": {
        "id": "i6KgrSTHQo82",
        "colab_type": "code",
        "colab": {}
      },
      "source": [
        ""
      ],
      "execution_count": null,
      "outputs": []
    }
  ]
}